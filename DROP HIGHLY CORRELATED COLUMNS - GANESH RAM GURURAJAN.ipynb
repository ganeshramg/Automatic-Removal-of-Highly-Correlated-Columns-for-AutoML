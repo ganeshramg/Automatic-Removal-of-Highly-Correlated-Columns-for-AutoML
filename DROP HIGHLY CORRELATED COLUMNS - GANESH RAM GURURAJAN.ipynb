{
 "cells": [
  {
   "cell_type": "markdown",
   "metadata": {
    "colab_type": "text",
    "id": "t_vlSXOjFeRn"
   },
   "source": [
    "# AUTO-DROP HIGHLY CORRELATED COLUMNS - GANESH RAM GURURAJAN"
   ]
  },
  {
   "cell_type": "markdown",
   "metadata": {
    "colab_type": "text",
    "id": "Fwpk9Zrv-gzW"
   },
   "source": [
    "**Explanation** :\n",
    "Steps:\n",
    "1. First pass data frame into the function\n",
    "2. Get Corr() data frame using **' pearson method '**\n",
    "3. Filter with condition **df[ df [ columns > 0.85 ]**\n",
    "4. **Set the diagonal to np.nan, because diagonal of corr() is always 1.0**\n",
    "5. **Remove all completely empty columns and rows**, with absolute np.nan\n",
    "6. If corr() is of shape (0,0), it means there's no highly correlated columns\n",
    "7. Else, while corr() is not equal to (0,0) keep removing both the column and row with the highest correlation value in the whole corr() matrix, also remove all rows and columns with absolute np.nan. This will keep reducing the shape of correlation matrix.\n",
    "8. Now, remove the columns from original dataFrame and return the DF"
   ]
  },
  {
   "cell_type": "markdown",
   "metadata": {
    "colab_type": "text",
    "id": "g2-Kx5ycFkQE"
   },
   "source": [
    "### Module Imports - Problem - 3"
   ]
  },
  {
   "cell_type": "code",
   "execution_count": null,
   "metadata": {
    "colab": {
     "base_uri": "https://localhost:8080/",
     "height": 71
    },
    "colab_type": "code",
    "id": "MaupT2bTq0nY",
    "outputId": "66611b58-5138-487b-9037-b15902b38c50"
   },
   "outputs": [
    {
     "name": "stderr",
     "output_type": "stream",
     "text": [
      "/usr/local/lib/python3.6/dist-packages/statsmodels/tools/_testing.py:19: FutureWarning: pandas.util.testing is deprecated. Use the functions in the public API at pandas.testing instead.\n",
      "  import pandas.util.testing as tm\n"
     ]
    }
   ],
   "source": [
    "import pandas as pd\n",
    "import numpy as np\n",
    "import seaborn as sns                                                           # FOR VISUALIZATION OF HEATMAP                               "
   ]
  },
  {
   "cell_type": "markdown",
   "metadata": {
    "colab_type": "text",
    "id": "bREZJ7qY82JE"
   },
   "source": [
    "## **THE FUNCTION** - PROBLEM 3"
   ]
  },
  {
   "cell_type": "code",
   "execution_count": null,
   "metadata": {
    "colab": {},
    "colab_type": "code",
    "id": "Qkg6N6o8Qx2f"
   },
   "outputs": [],
   "source": [
    "def dropHighlyCorrelatedColumns(df):\n",
    "\n",
    "  '''\n",
    "  This method removes minimum number of highly correlated columns using pearson method.\n",
    "  '''  \n",
    "\n",
    "\n",
    "  # INITIAL FEW STEPS\n",
    "  corr = df.corr(method='pearson')                                              # CORR dataFrame consisting only correlation\n",
    "  corr = corr[(corr >= 0.85)]                                                   # Filtering dateFrame with corr() >= 0.85                                               \n",
    "\n",
    "\n",
    "  for column in corr.columns:                                                   # np.nan Diagonal, as corr() of diag is 1.0 always\n",
    "    corr.loc[column][column] = np.nan\n",
    "\n",
    "\n",
    "  corr.dropna(axis=1,how='all',inplace=True)                                    # Drop all columns with absolute NaN\n",
    "  corr.dropna(axis=0,how='all',inplace=True)                                    # Drop all row with absolute NaN\n",
    "\n",
    "\n",
    "\n",
    "\n",
    "  ###################### THIS IS THE IMPORTANT PART ######################\n",
    "  if corr.shape!=(0,0):                                                         # If shape of the current dataFrame is not (0,0)  \n",
    "    \n",
    "    removed_cols = []                                                           # Stored the names of columns to be removed from original dataframe\n",
    "        \n",
    "    while corr.shape != (0,0):                                                  # While Correlation DF is not NONE:\n",
    "      corr_dict = {}                                                            # Keep removing highly correlated columns in the descending order of\n",
    "      for column in corr.columns:                                               # Correlation\n",
    "        corr_dict[corr[column].max()] = column\n",
    "      try:\n",
    "          val = max(corr_dict)\n",
    "          corr.drop(corr_dict[val],inplace=True)\n",
    "          corr.drop(corr_dict[val],axis=1,inplace=True)\n",
    "          corr.dropna(axis=1,how='all',inplace=True)\n",
    "          corr.dropna(axis=0,how='all',inplace=True)\n",
    "          removed_cols.append(corr_dict[val])\n",
    "          del corr_dict[val]\n",
    "      except ValueError:                                                        # When corr_dict is empty, it means all columns have been noted\n",
    "          break\n",
    "\n",
    "    df.drop(removed_cols,axis=1,inplace=True)                                   # Remove the columns from the original DF\n",
    "\n",
    "    print(\"\\nRemoved Columns are {}\".format(removed_cols))                      # Print the removed columns\n",
    "\n",
    "  else:\n",
    "    print('There are no highly correlated columns')                             # No need of removal of columns if all corr() is less than 0.85\n",
    "    \n",
    "\n",
    "  return df                                                                     # In any case return DF"
   ]
  },
  {
   "cell_type": "markdown",
   "metadata": {
    "colab_type": "text",
    "id": "T2D7TEpM86pK"
   },
   "source": [
    "## - - - - - TEST YOUR DATA HERE - - - - -  PROBLEM 3"
   ]
  },
  {
   "cell_type": "code",
   "execution_count": null,
   "metadata": {
    "colab": {
     "base_uri": "https://localhost:8080/",
     "height": 51
    },
    "colab_type": "code",
    "id": "oDJ-96wBQtWg",
    "outputId": "acd0fded-cbd8-480c-85e5-4aa2ad0e6621"
   },
   "outputs": [
    {
     "name": "stdout",
     "output_type": "stream",
     "text": [
      "\n",
      "Removed Columns are ['per_capita_exp_PPP_2016', 'Specialist_surgical_per_1000_2008-18']\n"
     ]
    }
   ],
   "source": [
    "############### CHANGE THE NEXT LINE TO LOAD YOUR DATA ###############\n",
    "# df = pd.read_csv('health.csv')\n",
    "\n",
    "\n",
    "################ DO NOT CHANGE THIS ################\n",
    "# This is the resultant DATA FRAME\n",
    "new_df = dropHighlyCorrelatedColumns(df)"
   ]
  },
  {
   "cell_type": "markdown",
   "metadata": {
    "colab_type": "text",
    "id": "_9cmHrWQ8_nT"
   },
   "source": [
    "## VISUALIZE HERE\n",
    "#### FIRST CELL IS THE **HEAT MAP OF ORIGINAL DATA**\n",
    "#### SECOND CELL IS THE **HEAT MAP OF NEW DATA**\n",
    "#### THIRD CELL IS TO VIEW **NEW_DATA.corr() > 0.85**"
   ]
  },
  {
   "cell_type": "code",
   "execution_count": null,
   "metadata": {
    "colab": {},
    "colab_type": "code",
    "id": "2pvhb5MvBn3S"
   },
   "outputs": [],
   "source": [
    "######################### THIS IS HEAT MAP OF CORR() OF ORIGINAL DATAFRAME ##############################\n",
    "# VISUALIZE HERE\n",
    "# UNCOMMENT THE BELOW LINE\n",
    "\n",
    "# sns.heatmap(df.corr())"
   ]
  },
  {
   "cell_type": "code",
   "execution_count": null,
   "metadata": {
    "colab": {},
    "colab_type": "code",
    "id": "uXDXDajoRPRQ"
   },
   "outputs": [],
   "source": [
    "######################### THIS IS HEAT MAP OF CORR() OF NEW DATAFRAME ##############################\n",
    "# VISUALIZE HERE\n",
    "# UNCOMMENT THE BELOW LINE\n",
    "\n",
    "# sns.heatmap(new_df.corr())"
   ]
  },
  {
   "cell_type": "code",
   "execution_count": null,
   "metadata": {
    "colab": {},
    "colab_type": "code",
    "id": "YXh2_QhGCWed"
   },
   "outputs": [],
   "source": [
    "###################### VIEW NEW_DF.CORR() > 0.85 HERE ######################\n",
    "# UNCOMMENT THE BELOW LINE\n",
    "\n",
    "# new_df.corr() > 0.85"
   ]
  }
 ],
 "metadata": {
  "colab": {
   "collapsed_sections": [
    "g2-Kx5ycFkQE",
    "bREZJ7qY82JE",
    "T2D7TEpM86pK",
    "_9cmHrWQ8_nT"
   ],
   "name": "Lannet Tech 3",
   "provenance": [],
   "toc_visible": true
  },
  "kernelspec": {
   "display_name": "Python 3",
   "language": "python",
   "name": "python3"
  },
  "language_info": {
   "codemirror_mode": {
    "name": "ipython",
    "version": 3
   },
   "file_extension": ".py",
   "mimetype": "text/x-python",
   "name": "python",
   "nbconvert_exporter": "python",
   "pygments_lexer": "ipython3",
   "version": "3.7.6"
  }
 },
 "nbformat": 4,
 "nbformat_minor": 1
}
